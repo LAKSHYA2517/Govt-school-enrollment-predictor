{
 "cells": [
  {
   "cell_type": "code",
   "execution_count": 53,
   "id": "3e7ac0a9-db25-49ad-87ad-9eeb917fc2fb",
   "metadata": {},
   "outputs": [],
   "source": [
    "import pandas as pd\n",
    "from sklearn.preprocessing import OneHotEncoder\n",
    "from sklearn.model_selection import train_test_split\n",
    "import matplotlib.pyplot as plt"
   ]
  },
  {
   "cell_type": "code",
   "execution_count": 29,
   "id": "0a7dea60-bc09-4448-97e5-544719a9e116",
   "metadata": {},
   "outputs": [
    {
     "name": "stdout",
     "output_type": "stream",
     "text": [
      "--- Successfully loaded ind_sch_updated.csv ---\n"
     ]
    }
   ],
   "source": [
    "import pandas as pd\n",
    "\n",
    "try:\n",
    "    df = pd.read_csv(r'ind_sch_updated.csv')\n",
    "    print(\"--- Successfully loaded ind_sch_updated.csv ---\")\n",
    "except FileNotFoundError:\n",
    "    print(\"Error: 'ind_sch_updated.csv' not found in Downloads folder. Please make sure the file exists at the specified path.\")\n",
    "    exit()\n"
   ]
  },
  {
   "cell_type": "code",
   "execution_count": 30,
   "id": "a19b23d4-b226-46cb-9a7a-f5510a56e1eb",
   "metadata": {},
   "outputs": [
    {
     "name": "stdout",
     "output_type": "stream",
     "text": [
      "\n",
      "--- Initial Data Inspection ---\n",
      "DataFrame Info (columns, data types, non-null counts):\n",
      "<class 'pandas.core.frame.DataFrame'>\n",
      "RangeIndex: 40 entries, 0 to 39\n",
      "Data columns (total 5 columns):\n",
      " #   Column       Non-Null Count  Dtype \n",
      "---  ------       --------------  ----- \n",
      " 0   fiscal_year  40 non-null     object\n",
      " 1   school_type  40 non-null     object\n",
      " 2   value        40 non-null     int64 \n",
      " 3   unit         40 non-null     object\n",
      " 4   note         40 non-null     object\n",
      "dtypes: int64(1), object(4)\n",
      "memory usage: 1.7+ KB\n",
      "\n",
      "First 5 Rows of the Raw Data:\n",
      "  fiscal_year       school_type      value                      unit  \\\n",
      "0     2014-15        Government  139000000  value in absolute number   \n",
      "1     2014-15  Government Aided   31000000  value in absolute number   \n",
      "2     2014-15   Private Unaided   71000000  value in absolute number   \n",
      "3     2014-15            Others    5000000  value in absolute number   \n",
      "4     2015-16        Government  137000000  value in absolute number   \n",
      "\n",
      "                          note  \n",
      "0  Including Pre-Primary Level  \n",
      "1  Including Pre-Primary Level  \n",
      "2  Including Pre-Primary Level  \n",
      "3  Including Pre-Primary Level  \n",
      "4  Including Pre-Primary Level  \n",
      "\n",
      "Checking for Missing Values:\n",
      "fiscal_year    0\n",
      "school_type    0\n",
      "value          0\n",
      "unit           0\n",
      "note           0\n",
      "dtype: int64\n",
      "----------------------------------------\n"
     ]
    }
   ],
   "source": [
    "print(\"\\n--- Initial Data Inspection ---\")\n",
    "print(\"DataFrame Info (columns, data types, non-null counts):\")\n",
    "df.info()\n",
    "print(\"\\nFirst 5 Rows of the Raw Data:\")\n",
    "print(df.head())\n",
    "print(\"\\nChecking for Missing Values:\")\n",
    "print(df.isnull().sum())\n",
    "print(\"-\" * 40)"
   ]
  },
  {
   "cell_type": "code",
   "execution_count": 31,
   "id": "0e44d66b-f11e-4c76-b4b8-f86128c7a2a7",
   "metadata": {},
   "outputs": [
    {
     "name": "stdout",
     "output_type": "stream",
     "text": [
      "\n",
      "--- Dropped 'unit' and 'note' columns ---\n"
     ]
    }
   ],
   "source": [
    "df_processed = df.drop(columns=['unit', 'note'])\n",
    "print(\"\\n--- Dropped 'unit' and 'note' columns ---\")\n"
   ]
  },
  {
   "cell_type": "code",
   "execution_count": 32,
   "id": "929c858a-5673-47c6-8216-8a1e3625f6cb",
   "metadata": {},
   "outputs": [
    {
     "name": "stdout",
     "output_type": "stream",
     "text": [
      "\n",
      "--- Encoding Categorical Features ---\n"
     ]
    }
   ],
   "source": [
    "print(\"\\n--- Encoding Categorical Features ---\")"
   ]
  },
  {
   "cell_type": "code",
   "execution_count": 33,
   "id": "55b4f04a-d08a-40cc-a8f3-d6564cff6551",
   "metadata": {},
   "outputs": [],
   "source": [
    "categorical_features = ['fiscal_year', 'school_type']"
   ]
  },
  {
   "cell_type": "code",
   "execution_count": 34,
   "id": "cb93b5c6-85db-4094-953d-00739a25a45a",
   "metadata": {},
   "outputs": [],
   "source": [
    "encoder = OneHotEncoder(sparse_output=False, handle_unknown='ignore')\n",
    "encoded_data = encoder.fit_transform(df_processed[categorical_features])"
   ]
  },
  {
   "cell_type": "code",
   "execution_count": 35,
   "id": "113e4ca1-65ba-4bed-9c93-5842561731e7",
   "metadata": {},
   "outputs": [],
   "source": [
    "encoded_df = pd.DataFrame(encoded_data, columns=encoder.get_feature_names_out(categorical_features))"
   ]
  },
  {
   "cell_type": "code",
   "execution_count": 36,
   "id": "6f99871a-025b-489c-98d7-fcad25e6d66e",
   "metadata": {},
   "outputs": [
    {
     "name": "stdout",
     "output_type": "stream",
     "text": [
      "\n",
      "--- Processed DataFrame Head ---\n",
      "This is how the data looks after cleaning and one-hot encoding:\n",
      "       value  fiscal_year_2014-15  fiscal_year_2015-16  fiscal_year_2016-17  \\\n",
      "0  139000000                  1.0                  0.0                  0.0   \n",
      "1   31000000                  1.0                  0.0                  0.0   \n",
      "2   71000000                  1.0                  0.0                  0.0   \n",
      "3    5000000                  1.0                  0.0                  0.0   \n",
      "4  137000000                  0.0                  1.0                  0.0   \n",
      "\n",
      "   fiscal_year_2017-18  fiscal_year_2018-19  fiscal_year_2019-20  \\\n",
      "0                  0.0                  0.0                  0.0   \n",
      "1                  0.0                  0.0                  0.0   \n",
      "2                  0.0                  0.0                  0.0   \n",
      "3                  0.0                  0.0                  0.0   \n",
      "4                  0.0                  0.0                  0.0   \n",
      "\n",
      "   fiscal_year_2020-21  fiscal_year_2021-22  fiscal_year_2022-23  \\\n",
      "0                  0.0                  0.0                  0.0   \n",
      "1                  0.0                  0.0                  0.0   \n",
      "2                  0.0                  0.0                  0.0   \n",
      "3                  0.0                  0.0                  0.0   \n",
      "4                  0.0                  0.0                  0.0   \n",
      "\n",
      "   fiscal_year_2023-24  school_type_Government  school_type_Government Aided  \\\n",
      "0                  0.0                     1.0                           0.0   \n",
      "1                  0.0                     0.0                           1.0   \n",
      "2                  0.0                     0.0                           0.0   \n",
      "3                  0.0                     0.0                           0.0   \n",
      "4                  0.0                     1.0                           0.0   \n",
      "\n",
      "   school_type_Others  school_type_Private Unaided  \n",
      "0                 0.0                          0.0  \n",
      "1                 0.0                          0.0  \n",
      "2                 0.0                          1.0  \n",
      "3                 1.0                          0.0  \n",
      "4                 0.0                          0.0  \n",
      "----------------------------------------\n"
     ]
    }
   ],
   "source": [
    "final_df = pd.concat([df_processed[['value']].reset_index(drop=True), encoded_df], axis=1)\n",
    "\n",
    "print(\"\\n--- Processed DataFrame Head ---\")\n",
    "print(\"This is how the data looks after cleaning and one-hot encoding:\")\n",
    "print(final_df.head())\n",
    "print(\"-\" * 40)"
   ]
  },
  {
   "cell_type": "code",
   "execution_count": 37,
   "id": "0878807d-5a58-43f6-af4f-75560a0781a8",
   "metadata": {},
   "outputs": [
    {
     "name": "stdout",
     "output_type": "stream",
     "text": [
      "\n",
      "--- Splitting Data into Training and Testing Sets ---\n",
      "Shape of X_train (features for training): (32, 14)\n",
      "Shape of y_train (target for training): (32,)\n",
      "Shape of X_test (features for testing): (8, 14)\n",
      "Shape of y_test (target for testing): (8,)\n",
      "\n",
      "--- Preprocessing Complete ---\n"
     ]
    }
   ],
   "source": [
    "print(\"\\n--- Splitting Data into Training and Testing Sets ---\")\n",
    "\n",
    "X = final_df.drop('value', axis=1)\n",
    "\n",
    "y = final_df['value']\n",
    "\n",
    "X_train, X_test, y_train, y_test = train_test_split(X, y, test_size=0.2, random_state=42)\n",
    "\n",
    "print(f\"Shape of X_train (features for training): {X_train.shape}\")\n",
    "print(f\"Shape of y_train (target for training): {y_train.shape}\")\n",
    "print(f\"Shape of X_test (features for testing): {X_test.shape}\")\n",
    "print(f\"Shape of y_test (target for testing): {y_test.shape}\")\n",
    "print(\"\\n--- Preprocessing Complete ---\")\n"
   ]
  },
  {
   "cell_type": "code",
   "execution_count": 38,
   "id": "01683bb5-7083-47c2-94c7-c321b1f31164",
   "metadata": {},
   "outputs": [
    {
     "name": "stdout",
     "output_type": "stream",
     "text": [
      "\n",
      "Processed data has been saved to 'ind_sch_processed.csv'\n"
     ]
    }
   ],
   "source": [
    "final_df.to_csv('ind_sch_newprocessed.csv', index=False)\n",
    "print(\"\\nProcessed data has been saved to 'ind_sch_processed.csv'\")"
   ]
  },
  {
   "cell_type": "code",
   "execution_count": 39,
   "id": "a2a5024a-af50-4421-80c7-8ede2c4b3842",
   "metadata": {},
   "outputs": [],
   "source": [
    "import pandas as pd\n",
    "from sklearn.model_selection import train_test_split\n",
    "from sklearn.preprocessing import OneHotEncoder\n",
    "from sklearn.linear_model import LinearRegression\n",
    "from sklearn.metrics import mean_squared_error, r2_score\n",
    "import numpy as np"
   ]
  },
  {
   "cell_type": "code",
   "execution_count": 40,
   "id": "1c1a91d0-6bdd-4f88-8e67-b57c228175d5",
   "metadata": {},
   "outputs": [
    {
     "name": "stdout",
     "output_type": "stream",
     "text": [
      "--- Successfully loaded your file: ind_sch_updated.csv ---\n"
     ]
    }
   ],
   "source": [
    "try:\n",
    "    df = pd.read_csv(r'ind_sch_updated.csv')  # Use raw string with r''\n",
    "    print(\"--- Successfully loaded your file: ind_sch_updated.csv ---\")\n",
    "except FileNotFoundError:\n",
    "    print(\"Error: 'ind_sch_updated.csv' not found in the Downloads folder. Please make sure the file exists at the specified path.\")\n",
    "    exit()"
   ]
  },
  {
   "cell_type": "code",
   "execution_count": 41,
   "id": "d95d5fde-4f70-4c63-95fb-013a24823e5c",
   "metadata": {},
   "outputs": [],
   "source": [
    "df_processed = df.drop(columns=['unit', 'note'])\n",
    "categorical_features = ['fiscal_year', 'school_type']\n",
    "encoder = OneHotEncoder(sparse_output=False, handle_unknown='ignore')\n",
    "encoded_data = encoder.fit_transform(df_processed[categorical_features])\n",
    "encoded_df = pd.DataFrame(encoded_data, columns=encoder.get_feature_names_out(categorical_features))\n",
    "final_df = pd.concat([df_processed[['value']].reset_index(drop=True), encoded_df], axis=1)\n",
    "\n"
   ]
  },
  {
   "cell_type": "code",
   "execution_count": 42,
   "id": "53768dad-a287-4748-b67a-44c83bfb9a5c",
   "metadata": {},
   "outputs": [
    {
     "name": "stdout",
     "output_type": "stream",
     "text": [
      "    fiscal_year_2014-15  fiscal_year_2015-16  fiscal_year_2016-17  \\\n",
      "39                  0.0                  0.0                  0.0   \n",
      "6                   0.0                  1.0                  0.0   \n",
      "25                  0.0                  0.0                  0.0   \n",
      "9                   0.0                  0.0                  1.0   \n",
      "13                  0.0                  0.0                  0.0   \n",
      "31                  0.0                  0.0                  0.0   \n",
      "34                  0.0                  0.0                  0.0   \n",
      "8                   0.0                  0.0                  1.0   \n",
      "17                  0.0                  0.0                  0.0   \n",
      "24                  0.0                  0.0                  0.0   \n",
      "0                   1.0                  0.0                  0.0   \n",
      "33                  0.0                  0.0                  0.0   \n",
      "5                   0.0                  1.0                  0.0   \n",
      "11                  0.0                  0.0                  1.0   \n",
      "1                   1.0                  0.0                  0.0   \n",
      "29                  0.0                  0.0                  0.0   \n",
      "21                  0.0                  0.0                  0.0   \n",
      "2                   1.0                  0.0                  0.0   \n",
      "30                  0.0                  0.0                  0.0   \n",
      "36                  0.0                  0.0                  0.0   \n",
      "3                   1.0                  0.0                  0.0   \n",
      "35                  0.0                  0.0                  0.0   \n",
      "23                  0.0                  0.0                  0.0   \n",
      "32                  0.0                  0.0                  0.0   \n",
      "10                  0.0                  0.0                  1.0   \n",
      "22                  0.0                  0.0                  0.0   \n",
      "18                  0.0                  0.0                  0.0   \n",
      "20                  0.0                  0.0                  0.0   \n",
      "7                   0.0                  1.0                  0.0   \n",
      "14                  0.0                  0.0                  0.0   \n",
      "28                  0.0                  0.0                  0.0   \n",
      "38                  0.0                  0.0                  0.0   \n",
      "\n",
      "    fiscal_year_2017-18  fiscal_year_2018-19  fiscal_year_2019-20  \\\n",
      "39                  0.0                  0.0                  0.0   \n",
      "6                   0.0                  0.0                  0.0   \n",
      "25                  0.0                  0.0                  0.0   \n",
      "9                   0.0                  0.0                  0.0   \n",
      "13                  1.0                  0.0                  0.0   \n",
      "31                  0.0                  0.0                  0.0   \n",
      "34                  0.0                  0.0                  0.0   \n",
      "8                   0.0                  0.0                  0.0   \n",
      "17                  0.0                  1.0                  0.0   \n",
      "24                  0.0                  0.0                  0.0   \n",
      "0                   0.0                  0.0                  0.0   \n",
      "33                  0.0                  0.0                  0.0   \n",
      "5                   0.0                  0.0                  0.0   \n",
      "11                  0.0                  0.0                  0.0   \n",
      "1                   0.0                  0.0                  0.0   \n",
      "29                  0.0                  0.0                  0.0   \n",
      "21                  0.0                  0.0                  1.0   \n",
      "2                   0.0                  0.0                  0.0   \n",
      "30                  0.0                  0.0                  0.0   \n",
      "36                  0.0                  0.0                  0.0   \n",
      "3                   0.0                  0.0                  0.0   \n",
      "35                  0.0                  0.0                  0.0   \n",
      "23                  0.0                  0.0                  1.0   \n",
      "32                  0.0                  0.0                  0.0   \n",
      "10                  0.0                  0.0                  0.0   \n",
      "22                  0.0                  0.0                  1.0   \n",
      "18                  0.0                  1.0                  0.0   \n",
      "20                  0.0                  0.0                  1.0   \n",
      "7                   0.0                  0.0                  0.0   \n",
      "14                  1.0                  0.0                  0.0   \n",
      "28                  0.0                  0.0                  0.0   \n",
      "38                  0.0                  0.0                  0.0   \n",
      "\n",
      "    fiscal_year_2020-21  fiscal_year_2021-22  fiscal_year_2022-23  \\\n",
      "39                  0.0                  0.0                  0.0   \n",
      "6                   0.0                  0.0                  0.0   \n",
      "25                  1.0                  0.0                  0.0   \n",
      "9                   0.0                  0.0                  0.0   \n",
      "13                  0.0                  0.0                  0.0   \n",
      "31                  0.0                  1.0                  0.0   \n",
      "34                  0.0                  0.0                  1.0   \n",
      "8                   0.0                  0.0                  0.0   \n",
      "17                  0.0                  0.0                  0.0   \n",
      "24                  1.0                  0.0                  0.0   \n",
      "0                   0.0                  0.0                  0.0   \n",
      "33                  0.0                  0.0                  1.0   \n",
      "5                   0.0                  0.0                  0.0   \n",
      "11                  0.0                  0.0                  0.0   \n",
      "1                   0.0                  0.0                  0.0   \n",
      "29                  0.0                  1.0                  0.0   \n",
      "21                  0.0                  0.0                  0.0   \n",
      "2                   0.0                  0.0                  0.0   \n",
      "30                  0.0                  1.0                  0.0   \n",
      "36                  0.0                  0.0                  0.0   \n",
      "3                   0.0                  0.0                  0.0   \n",
      "35                  0.0                  0.0                  1.0   \n",
      "23                  0.0                  0.0                  0.0   \n",
      "32                  0.0                  0.0                  1.0   \n",
      "10                  0.0                  0.0                  0.0   \n",
      "22                  0.0                  0.0                  0.0   \n",
      "18                  0.0                  0.0                  0.0   \n",
      "20                  0.0                  0.0                  0.0   \n",
      "7                   0.0                  0.0                  0.0   \n",
      "14                  0.0                  0.0                  0.0   \n",
      "28                  0.0                  1.0                  0.0   \n",
      "38                  0.0                  0.0                  0.0   \n",
      "\n",
      "    fiscal_year_2023-24  school_type_Government  school_type_Government Aided  \\\n",
      "39                  1.0                     0.0                           0.0   \n",
      "6                   0.0                     0.0                           0.0   \n",
      "25                  0.0                     0.0                           1.0   \n",
      "9                   0.0                     0.0                           1.0   \n",
      "13                  0.0                     0.0                           1.0   \n",
      "31                  0.0                     0.0                           0.0   \n",
      "34                  0.0                     0.0                           0.0   \n",
      "8                   0.0                     1.0                           0.0   \n",
      "17                  0.0                     0.0                           1.0   \n",
      "24                  0.0                     1.0                           0.0   \n",
      "0                   0.0                     1.0                           0.0   \n",
      "33                  0.0                     0.0                           1.0   \n",
      "5                   0.0                     0.0                           1.0   \n",
      "11                  0.0                     0.0                           0.0   \n",
      "1                   0.0                     0.0                           1.0   \n",
      "29                  0.0                     0.0                           1.0   \n",
      "21                  0.0                     0.0                           1.0   \n",
      "2                   0.0                     0.0                           0.0   \n",
      "30                  0.0                     0.0                           0.0   \n",
      "36                  1.0                     1.0                           0.0   \n",
      "3                   0.0                     0.0                           0.0   \n",
      "35                  0.0                     0.0                           0.0   \n",
      "23                  0.0                     0.0                           0.0   \n",
      "32                  0.0                     1.0                           0.0   \n",
      "10                  0.0                     0.0                           0.0   \n",
      "22                  0.0                     0.0                           0.0   \n",
      "18                  0.0                     0.0                           0.0   \n",
      "20                  0.0                     1.0                           0.0   \n",
      "7                   0.0                     0.0                           0.0   \n",
      "14                  0.0                     0.0                           0.0   \n",
      "28                  0.0                     1.0                           0.0   \n",
      "38                  1.0                     0.0                           0.0   \n",
      "\n",
      "    school_type_Others  school_type_Private Unaided  \n",
      "39                 1.0                          0.0  \n",
      "6                  0.0                          1.0  \n",
      "25                 0.0                          0.0  \n",
      "9                  0.0                          0.0  \n",
      "13                 0.0                          0.0  \n",
      "31                 1.0                          0.0  \n",
      "34                 0.0                          1.0  \n",
      "8                  0.0                          0.0  \n",
      "17                 0.0                          0.0  \n",
      "24                 0.0                          0.0  \n",
      "0                  0.0                          0.0  \n",
      "33                 0.0                          0.0  \n",
      "5                  0.0                          0.0  \n",
      "11                 1.0                          0.0  \n",
      "1                  0.0                          0.0  \n",
      "29                 0.0                          0.0  \n",
      "21                 0.0                          0.0  \n",
      "2                  0.0                          1.0  \n",
      "30                 0.0                          1.0  \n",
      "36                 0.0                          0.0  \n",
      "3                  1.0                          0.0  \n",
      "35                 1.0                          0.0  \n",
      "23                 1.0                          0.0  \n",
      "32                 0.0                          0.0  \n",
      "10                 0.0                          1.0  \n",
      "22                 0.0                          1.0  \n",
      "18                 0.0                          1.0  \n",
      "20                 0.0                          0.0  \n",
      "7                  1.0                          0.0  \n",
      "14                 0.0                          1.0  \n",
      "28                 0.0                          0.0  \n",
      "38                 0.0                          1.0  \n",
      "--- Preprocessing complete. ---\n"
     ]
    }
   ],
   "source": [
    "X = final_df.drop('value', axis=1)\n",
    "y = final_df['value']\n",
    "X_train, X_test, y_train, y_test = train_test_split(X, y, test_size=0.2, random_state=42)\n",
    "print(X_train)\n",
    "print(\"--- Preprocessing complete. ---\")"
   ]
  },
  {
   "cell_type": "code",
   "execution_count": 43,
   "id": "50e1b40e-2458-48ae-b5ff-c95eee56de69",
   "metadata": {},
   "outputs": [
    {
     "name": "stdout",
     "output_type": "stream",
     "text": [
      "\n",
      "--- Training the Linear Regression model... ---\n",
      "--- Model training complete. ---\n"
     ]
    }
   ],
   "source": [
    "model = LinearRegression()\n",
    "print(\"\\n--- Training the Linear Regression model... ---\")\n",
    "model.fit(X_train, y_train)\n",
    "print(\"--- Model training complete. ---\")"
   ]
  },
  {
   "cell_type": "code",
   "execution_count": 44,
   "id": "1093b106-ee1b-42e3-8c99-56fca3e755dd",
   "metadata": {},
   "outputs": [
    {
     "name": "stdout",
     "output_type": "stream",
     "text": [
      "\n",
      "--- Making predictions on the test data... ---\n"
     ]
    }
   ],
   "source": [
    "print(\"\\n--- Making predictions on the test data... ---\")\n",
    "y_pred = model.predict(X_test)"
   ]
  },
  {
   "cell_type": "code",
   "execution_count": 45,
   "id": "635b5e36-1ee2-4d1e-bde7-5700522fceb1",
   "metadata": {},
   "outputs": [
    {
     "name": "stdout",
     "output_type": "stream",
     "text": [
      "\n",
      "--- Evaluating Model Performance ---\n",
      "Root Mean Squared Error (RMSE): 2,826,477.79\n",
      "R-squared (R²): 0.9976\n"
     ]
    }
   ],
   "source": [
    "print(\"\\n--- Evaluating Model Performance ---\")\n",
    "mse = mean_squared_error(y_test, y_pred)\n",
    "rmse = np.sqrt(mse)\n",
    "r2 = r2_score(y_test, y_pred)\n",
    "print(f\"Root Mean Squared Error (RMSE): {rmse:,.2f}\")\n",
    "print(f\"R-squared (R²): {r2:.4f}\")"
   ]
  },
  {
   "cell_type": "code",
   "execution_count": 46,
   "id": "4b1fa361-0dbb-4223-bb51-913b4001497c",
   "metadata": {},
   "outputs": [
    {
     "name": "stdout",
     "output_type": "stream",
     "text": [
      "\n",
      "--- Sample of Predictions vs Actual Values ---\n",
      "    Actual Value  Predicted Value\n",
      "19       4500000     4.252360e+06\n",
      "16     131000000     1.329627e+08\n",
      "15       4600000     3.502360e+06\n",
      "26      81000000     7.966575e+07\n",
      "4      137000000     1.313119e+08\n",
      "----------------------------------------\n"
     ]
    }
   ],
   "source": [
    "print(\"\\n--- Sample of Predictions vs Actual Values ---\")\n",
    "comparison_df = pd.DataFrame({'Actual Value': y_test, 'Predicted Value': y_pred})\n",
    "print(comparison_df.head())\n",
    "print(\"-\" * 40)"
   ]
  },
  {
   "cell_type": "code",
   "execution_count": 47,
   "id": "c87bf0e9-a12a-4038-9d6b-84d9e8cafb09",
   "metadata": {},
   "outputs": [],
   "source": [
    "import pandas as pd\n",
    "from sklearn.model_selection import train_test_split\n",
    "from sklearn.preprocessing import OneHotEncoder\n",
    "from sklearn.linear_model import LinearRegression\n",
    "from sklearn.ensemble import RandomForestRegressor\n",
    "from sklearn.metrics import mean_squared_error, r2_score\n",
    "import numpy as np\n",
    "\n",
    "try:\n",
    "    df = pd.read_csv(r'ind_sch_updated.csv')\n",
    "except FileNotFoundError:\n",
    "    print(\"Error: 'ind_sch_updated.csv' not found.\")\n",
    "    exit()"
   ]
  },
  {
   "cell_type": "code",
   "execution_count": 48,
   "id": "7bc75089-69ce-4bda-aa40-f0ad3454e876",
   "metadata": {},
   "outputs": [],
   "source": [
    "df_processed = df.drop(columns=['unit', 'note'])\n",
    "categorical_features = ['fiscal_year', 'school_type']\n",
    "encoder = OneHotEncoder(sparse_output=False, handle_unknown='ignore')\n",
    "encoded_data = encoder.fit_transform(df_processed[categorical_features])\n",
    "encoded_df = pd.DataFrame(encoded_data, columns=encoder.get_feature_names_out(categorical_features))\n",
    "final_df = pd.concat([df_processed[['value']].reset_index(drop=True), encoded_df], axis=1)\n",
    "\n",
    "X = final_df.drop('value', axis=1)\n",
    "y = final_df['value']\n",
    "X_train, X_test, y_train, y_test = train_test_split(X, y, test_size=0.2, random_state=42)"
   ]
  },
  {
   "cell_type": "code",
   "execution_count": 49,
   "id": "4afa5ff0-333e-40b1-8699-34612129ed29",
   "metadata": {},
   "outputs": [
    {
     "name": "stdout",
     "output_type": "stream",
     "text": [
      "--- Training the RandomForestRegressor model... ---\n",
      "--- Model training complete. ---\n"
     ]
    }
   ],
   "source": [
    "lr_model = LinearRegression()\n",
    "lr_model.fit(X_train, y_train)\n",
    "lr_y_pred = lr_model.predict(X_test)\n",
    "lr_r2 = r2_score(y_test, lr_y_pred)\n",
    "lr_rmse = np.sqrt(mean_squared_error(y_test, lr_y_pred))\n",
    "\n",
    "\n",
    "# --- 3. Train and Evaluate an Advanced Model: Random Forest ---\n",
    "print(\"--- Training the RandomForestRegressor model... ---\")\n",
    "\n",
    "rf_model = RandomForestRegressor(n_estimators=100, random_state=42)\n",
    "rf_model.fit(X_train, y_train)\n",
    "print(\"--- Model training complete. ---\")\n"
   ]
  },
  {
   "cell_type": "code",
   "execution_count": 50,
   "id": "4f6c3ab1-c555-47cf-a5ac-a6318bbbe066",
   "metadata": {},
   "outputs": [],
   "source": [
    "rf_y_pred = rf_model.predict(X_test)"
   ]
  },
  {
   "cell_type": "code",
   "execution_count": 51,
   "id": "f3ae40f1-efae-4d5d-b147-645c86487955",
   "metadata": {},
   "outputs": [],
   "source": [
    "rf_r2 = r2_score(y_test, rf_y_pred)\n",
    "rf_rmse = np.sqrt(mean_squared_error(y_test, rf_y_pred))\n"
   ]
  },
  {
   "cell_type": "code",
   "execution_count": 52,
   "id": "45cf138d-d156-473a-932d-5029973dfdeb",
   "metadata": {},
   "outputs": [
    {
     "name": "stdout",
     "output_type": "stream",
     "text": [
      "\n",
      "--- Model Comparison ---\n",
      "Linear Regression -> R²: 0.9976, RMSE: 2,826,477.79\n",
      "Random Forest     -> R²: 0.9986, RMSE: 2,189,314.43\n",
      "----------------------------------------\n"
     ]
    }
   ],
   "source": [
    "print(\"\\n--- Model Comparison ---\")\n",
    "print(f\"Linear Regression -> R²: {lr_r2:.4f}, RMSE: {lr_rmse:,.2f}\")\n",
    "print(f\"Random Forest     -> R²: {rf_r2:.4f}, RMSE: {rf_rmse:,.2f}\")\n",
    "print(\"-\" * 40)\n"
   ]
  }
 ],
 "metadata": {
  "kernelspec": {
   "display_name": ".venv_for_ml",
   "language": "python",
   "name": "python3"
  },
  "language_info": {
   "codemirror_mode": {
    "name": "ipython",
    "version": 3
   },
   "file_extension": ".py",
   "mimetype": "text/x-python",
   "name": "python",
   "nbconvert_exporter": "python",
   "pygments_lexer": "ipython3",
   "version": "3.13.5"
  }
 },
 "nbformat": 4,
 "nbformat_minor": 5
}
